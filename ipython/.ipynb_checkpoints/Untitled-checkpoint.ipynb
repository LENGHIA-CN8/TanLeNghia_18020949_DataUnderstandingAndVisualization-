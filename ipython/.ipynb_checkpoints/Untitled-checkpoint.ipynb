{
 "cells": [
  {
   "cell_type": "markdown",
   "metadata": {},
   "source": [
    "#  Pandas for Everyone"
   ]
  },
  {
   "cell_type": "code",
   "execution_count": 8,
   "metadata": {},
   "outputs": [
    {
     "name": "stdout",
     "output_type": "stream",
     "text": [
      "          country continent  year  lifeExp       pop   gdpPercap\n",
      "0     Afghanistan      Asia  1952   28.801   8425333  779.445314\n",
      "1     Afghanistan      Asia  1957   30.332   9240934  820.853030\n",
      "2     Afghanistan      Asia  1962   31.997  10267083  853.100710\n",
      "3     Afghanistan      Asia  1967   34.020  11537966  836.197138\n",
      "4     Afghanistan      Asia  1972   36.088  13079460  739.981106\n",
      "...           ...       ...   ...      ...       ...         ...\n",
      "1699     Zimbabwe    Africa  1987   62.351   9216418  706.157306\n",
      "1700     Zimbabwe    Africa  1992   60.377  10704340  693.420786\n",
      "1701     Zimbabwe    Africa  1997   46.809  11404948  792.449960\n",
      "1702     Zimbabwe    Africa  2002   39.989  11926563  672.038623\n",
      "1703     Zimbabwe    Africa  2007   43.487  12311143  469.709298\n",
      "\n",
      "[1704 rows x 6 columns]\n"
     ]
    }
   ],
   "source": [
    "import pandas as pd\n",
    "df = pd.read_csv('/Users/user/Desktop/inst/extdata/gapminder.tsv',sep='\\t')\n",
    "\n",
    "#print(df.loc[0]) #in ra Series con df.loc[[0,2]] in ra Datafr\n",
    "\n",
    "print(df)\n",
    "\n",
    "###subset=df.head(n=1) co type la Dataframe conf df.loc[0] co dang Series\n",
    "\n",
    "#subset cot\n",
    "#print(df.name)\n",
    "#print(df[['name','price']])\n",
    "\n",
    "#subset hang\n",
    "# df = df.loc[df['name']=='Điện Thoại iPhone 7 Plus 128GB - Hàng Chính Hãng VN/A']\n",
    "#giong :df = df[df['name']=='Điện Thoại iPhone 7 Plus 128GB - Hàng Chính Hãng VN/A'] \n",
    "#print(df.iloc[0])\n",
    "#print(df.iloc[1:4])\n",
    "# for index, row in df.iterrows():\n",
    "#     print(index,row['country'])\n",
    "#iloc[x,y]\n",
    "#iloc[:,0] laasy tat ca dong cua cot 0\n",
    "#print(df.iloc[4,:])\n",
    "#print(df.iloc[[0,2],:])\n",
    "\n",
    "\n",
    "###voi [iloc] cho index vaf slice ngam dinh con [loc] la cho ro rang\n",
    "\n",
    "# print(df)\n",
    "\n",
    "\n"
   ]
  },
  {
   "cell_type": "code",
   "execution_count": 10,
   "metadata": {},
   "outputs": [
    {
     "name": "stdout",
     "output_type": "stream",
     "text": [
      "Index(['country', 'continent', 'year', 'lifeExp', 'pop', 'gdpPercap'], dtype='object')\n"
     ]
    }
   ],
   "source": [
    "#in type cua cac gia tri\n",
    "#print(type(df))    #df.info()\n",
    "#print(type(df.price))\n",
    "#print(df.dtypes)\n",
    "print(df.columns)"
   ]
  },
  {
   "cell_type": "code",
   "execution_count": 3,
   "metadata": {
    "scrolled": true
   },
   "outputs": [
    {
     "name": "stdout",
     "output_type": "stream",
     "text": [
      "Angola\n",
      "Angola\n"
     ]
    }
   ],
   "source": [
    "\n",
    "print(df.loc[42,'country'])\n",
    "print(df.iloc[42,0])\n",
    "# print(df.ix[42,'country'])\n"
   ]
  },
  {
   "cell_type": "markdown",
   "metadata": {},
   "source": [
    "# Mixed col and row"
   ]
  },
  {
   "cell_type": "code",
   "execution_count": 4,
   "metadata": {},
   "outputs": [
    {
     "name": "stdout",
     "output_type": "stream",
     "text": [
      "       country continent\n",
      "1  Afghanistan      Asia\n",
      "2  Afghanistan      Asia\n"
     ]
    }
   ],
   "source": [
    "print(df.loc[[1,2],['country','continent']])"
   ]
  },
  {
   "cell_type": "markdown",
   "metadata": {},
   "source": [
    "# <b>Grouped and aggregated cacul</b>\n"
   ]
  },
  {
   "cell_type": "code",
   "execution_count": 5,
   "metadata": {},
   "outputs": [
    {
     "name": "stdout",
     "output_type": "stream",
     "text": [
      "year\n",
      "1952    49.057620\n",
      "1957    51.507401\n",
      "1962    53.609249\n",
      "1967    55.678290\n",
      "1972    57.647386\n",
      "1977    59.570157\n",
      "1982    61.533197\n",
      "1987    63.212613\n",
      "1992    64.160338\n",
      "1997    65.014676\n",
      "2002    65.694923\n",
      "2007    67.007423\n",
      "Name: lifeExp, dtype: float64\n"
     ]
    }
   ],
   "source": [
    "print(df.groupby('year')['lifeExp'].mean())\n",
    "# grouped_year_df = df.groupby(’year’)\n",
    "# grouped_year_df_lifeExp = grouped_year_df[’lifeExp’]\n",
    "# mean_lifeExp_by_year = grouped_year_df_lifeExp.mean()\n",
    "# print(mean_lifeExp_by_year)\n"
   ]
  },
  {
   "cell_type": "code",
   "execution_count": 6,
   "metadata": {},
   "outputs": [
    {
     "name": "stdout",
     "output_type": "stream",
     "text": [
      "                  lifeExp     gdpPercap\n",
      "continent year                         \n",
      "Africa    1952  39.135500   1252.572466\n",
      "          1957  41.266346   1385.236062\n",
      "          1962  43.319442   1598.078825\n",
      "          1967  45.334538   2050.363801\n",
      "          1972  47.450942   2339.615674\n",
      "          1977  49.580423   2585.938508\n",
      "          1982  51.592865   2481.592960\n",
      "          1987  53.344788   2282.668991\n",
      "          1992  53.629577   2281.810333\n",
      "          1997  53.598269   2378.759555\n",
      "          2002  53.325231   2599.385159\n",
      "          2007  54.806038   3089.032605\n",
      "Americas  1952  53.279840   4079.062552\n",
      "          1957  55.960280   4616.043733\n",
      "          1962  58.398760   4901.541870\n",
      "          1967  60.410920   5668.253496\n",
      "          1972  62.394920   6491.334139\n",
      "          1977  64.391560   7352.007126\n",
      "          1982  66.228840   7506.737088\n",
      "          1987  68.090720   7793.400261\n",
      "          1992  69.568360   8044.934406\n",
      "          1997  71.150480   8889.300863\n",
      "          2002  72.422040   9287.677107\n",
      "          2007  73.608120  11003.031625\n",
      "Asia      1952  46.314394   5195.484004\n",
      "          1957  49.318544   5787.732940\n",
      "          1962  51.563223   5729.369625\n",
      "          1967  54.663640   5971.173374\n",
      "          1972  57.319269   8187.468699\n",
      "          1977  59.610556   7791.314020\n",
      "          1982  62.617939   7434.135157\n",
      "          1987  64.851182   7608.226508\n",
      "          1992  66.537212   8639.690248\n",
      "          1997  68.020515   9834.093295\n",
      "          2002  69.233879  10174.090397\n",
      "          2007  70.728485  12473.026870\n",
      "Europe    1952  64.408500   5661.057435\n",
      "          1957  66.703067   6963.012816\n",
      "          1962  68.539233   8365.486814\n",
      "          1967  69.737600  10143.823757\n",
      "          1972  70.775033  12479.575246\n",
      "          1977  71.937767  14283.979110\n",
      "          1982  72.806400  15617.896551\n",
      "          1987  73.642167  17214.310727\n",
      "          1992  74.440100  17061.568084\n",
      "          1997  75.505167  19076.781802\n",
      "          2002  76.700600  21711.732422\n",
      "          2007  77.648600  25054.481636\n",
      "Oceania   1952  69.255000  10298.085650\n",
      "          1957  70.295000  11598.522455\n",
      "          1962  71.085000  12696.452430\n",
      "          1967  71.310000  14495.021790\n",
      "          1972  71.910000  16417.333380\n",
      "          1977  72.855000  17283.957605\n",
      "          1982  74.290000  18554.709840\n",
      "          1987  75.320000  20448.040160\n",
      "          1992  76.945000  20894.045885\n",
      "          1997  78.190000  24024.175170\n",
      "          2002  79.740000  26938.778040\n",
      "          2007  80.719500  29810.188275\n"
     ]
    }
   ],
   "source": [
    "print (df.groupby(['continent','year'])['lifeExp','gdpPercap'].mean())\n",
    "#print(df.groupby([’year’, ’continent’])[[’lifeExp’,’ gdpPercap’]].mean())"
   ]
  },
  {
   "cell_type": "markdown",
   "metadata": {},
   "source": [
    "# Grouped frequency counts\n"
   ]
  },
  {
   "cell_type": "code",
   "execution_count": 46,
   "metadata": {},
   "outputs": [
    {
     "name": "stdout",
     "output_type": "stream",
     "text": [
      "<class 'pandas.core.series.Series'>\n",
      "continent  country       \n",
      "Africa     Algeria           12\n",
      "           Angola            12\n",
      "           Benin             12\n",
      "           Botswana          12\n",
      "           Burkina Faso      12\n",
      "                             ..\n",
      "Europe     Switzerland       12\n",
      "           Turkey            12\n",
      "           United Kingdom    12\n",
      "Oceania    Australia         12\n",
      "           New Zealand       12\n",
      "Name: country, Length: 142, dtype: int64\n"
     ]
    }
   ],
   "source": [
    "print(type(df.groupby('continent')['country'].value_counts()))\n",
    "print(df.groupby('continent')['country'].value_counts())\n",
    "\n",
    "# Khac print(df.groupby('continent')['country'].nunique())"
   ]
  },
  {
   "cell_type": "markdown",
   "metadata": {},
   "source": [
    "# Basic plot (Visualization)"
   ]
  },
  {
   "cell_type": "code",
   "execution_count": 8,
   "metadata": {},
   "outputs": [],
   "source": [
    "global_yearly_life_expectancies=df.groupby('year')['lifeExp'].mean()"
   ]
  },
  {
   "cell_type": "code",
   "execution_count": 134,
   "metadata": {},
   "outputs": [
    {
     "name": "stdout",
     "output_type": "stream",
     "text": [
      "year\n",
      "1952    49.057620\n",
      "1957    51.507401\n",
      "1962    53.609249\n",
      "1967    55.678290\n",
      "1972    57.647386\n",
      "1977    59.570157\n",
      "1982    61.533197\n",
      "1987    63.212613\n",
      "1992    64.160338\n",
      "1997    65.014676\n",
      "2002    65.694923\n",
      "2007    67.007423\n",
      "Name: lifeExp, dtype: float64\n",
      "<class 'pandas.core.series.Series'>\n"
     ]
    }
   ],
   "source": [
    "print(global_yearly_life_expectancies)\n",
    "print(type(global_yearly_life_expectancies))"
   ]
  },
  {
   "cell_type": "code",
   "execution_count": 10,
   "metadata": {},
   "outputs": [
    {
     "data": {
      "text/plain": [
       "<matplotlib.axes._subplots.AxesSubplot at 0x1040d0a90>"
      ]
     },
     "execution_count": 10,
     "metadata": {},
     "output_type": "execute_result"
    },
    {
     "data": {
      "image/png": "[encoded data removed]",
      "text/plain": [
       "<Figure size 432x288 with 1 Axes>"
      ]
     },
     "metadata": {
      "needs_background": "light"
     },
     "output_type": "display_data"
    }
   ],
   "source": [
    "global_yearly_life_expectancies.plot()\n"
   ]
  },
  {
   "cell_type": "markdown",
   "metadata": {},
   "source": [
    "# Create Series and DataFrame manually"
   ]
  },
  {
   "cell_type": "code",
   "execution_count": 9,
   "metadata": {},
   "outputs": [
    {
     "name": "stdout",
     "output_type": "stream",
     "text": [
      "0    banana\n",
      "1        42\n",
      "dtype: object\n"
     ]
    }
   ],
   "source": [
    "s=pd.Series((\"banana\",42))\n",
    "#co the truyen vao list,tuple\n",
    "print(s)"
   ]
  },
  {
   "cell_type": "code",
   "execution_count": 99,
   "metadata": {},
   "outputs": [
    {
     "name": "stdout",
     "output_type": "stream",
     "text": [
      "       Name      Occ Age\n",
      "1  Rosaline   Artist  34\n",
      "2      King  Teacher  40\n",
      "3      Jack  Student  20\n",
      "\n",
      "\n",
      "       Name      Occ Age\n",
      "1  Rosaline   Artist  34\n",
      "2      King  Teacher  40\n"
     ]
    }
   ],
   "source": [
    "s=pd.DataFrame(data={'Name':['Rosaline','King','Jack'],'Occ':['Artist','Teacher','Student'],'Age':['34','40','20']},index=[1,2,3])\n",
    "print(s)\n",
    "print('\\n')\n",
    "first_row=s.loc[1:2]\n",
    "print(first_row)"
   ]
  },
  {
   "cell_type": "markdown",
   "metadata": {},
   "source": [
    "<p><b> When a series is printed (i.e., the string representation), the index is printed\n",
    "    down as the first ‘column’, and the values are printed as the second ‘column’</b></p>\n",
    "<p><b> Example series method is keys alias for index attribute</b></p>\n",
    "<p>print(first_row.keys())<br/>\n",
    "Index([’Occupation’, ’Born’, ’Died’, ’Age’], dtype=’object’)</p>"
   ]
  },
  {
   "cell_type": "code",
   "execution_count": 34,
   "metadata": {},
   "outputs": [
    {
     "name": "stdout",
     "output_type": "stream",
     "text": [
      "2\n"
     ]
    }
   ],
   "source": [
    "print(first_row.shape[0]) #return a tuple pf the shape"
   ]
  },
  {
   "cell_type": "markdown",
   "metadata": {},
   "source": [
    "##### Series is ndarray-like (extension of ndarray)\n"
   ]
  },
  {
   "cell_type": "code",
   "execution_count": 41,
   "metadata": {},
   "outputs": [
    {
     "name": "stdout",
     "output_type": "stream",
     "text": [
      "1    34\n",
      "2    40\n",
      "3    20\n",
      "Name: Age, dtype: int64 \n",
      "\n",
      "31.333333333333332\n"
     ]
    }
   ],
   "source": [
    "print(s['Age'],'\\n')\n",
    "print(s['Age'].mean())"
   ]
  },
  {
   "cell_type": "code",
   "execution_count": 107,
   "metadata": {},
   "outputs": [],
   "source": [
    "ages=pd.DataFrame({'Ages':[37,61,90,66,56,45,41,77]})"
   ]
  },
  {
   "cell_type": "code",
   "execution_count": 124,
   "metadata": {},
   "outputs": [
    {
     "name": "stdout",
     "output_type": "stream",
     "text": [
      "0    37\n",
      "1    61\n",
      "2    90\n",
      "3    66\n",
      "4    56\n",
      "5    45\n",
      "6    41\n",
      "7    77\n",
      "Name: Ages, dtype: int64\n",
      "<class 'pandas.core.series.Series'>\n"
     ]
    }
   ],
   "source": [
    "ages=ages\n",
    "print(ages)\n",
    "print(type(ages))"
   ]
  },
  {
   "cell_type": "code",
   "execution_count": 114,
   "metadata": {},
   "outputs": [
    {
     "name": "stdout",
     "output_type": "stream",
     "text": [
      "59.125\n"
     ]
    }
   ],
   "source": [
    "print(ages.mean())"
   ]
  },
  {
   "cell_type": "code",
   "execution_count": 115,
   "metadata": {},
   "outputs": [
    {
     "name": "stdout",
     "output_type": "stream",
     "text": [
      "count     8.000000\n",
      "mean     59.125000\n",
      "std      18.325918\n",
      "min      37.000000\n",
      "25%      44.000000\n",
      "50%      58.500000\n",
      "75%      68.750000\n",
      "max      90.000000\n",
      "Name: Ages, dtype: float64\n"
     ]
    }
   ],
   "source": [
    "print(ages.describe())"
   ]
  },
  {
   "cell_type": "markdown",
   "metadata": {},
   "source": [
    "<b> Boolean subsetting Series </b>"
   ]
  },
  {
   "cell_type": "code",
   "execution_count": 116,
   "metadata": {},
   "outputs": [
    {
     "name": "stdout",
     "output_type": "stream",
     "text": [
      "1    61\n",
      "2    90\n",
      "3    66\n",
      "7    77\n",
      "Name: Ages, dtype: int64 \n",
      "\n",
      "0    False\n",
      "1     True\n",
      "2     True\n",
      "3     True\n",
      "4    False\n",
      "5    False\n",
      "6    False\n",
      "7     True\n",
      "Name: Ages, dtype: bool\n"
     ]
    }
   ],
   "source": [
    "print(ages[ages>ages.mean()],'\\n')\n",
    "print(ages>ages.mean())"
   ]
  },
  {
   "cell_type": "code",
   "execution_count": 117,
   "metadata": {},
   "outputs": [
    {
     "name": "stdout",
     "output_type": "stream",
     "text": [
      "0    37\n",
      "1    61\n",
      "4    56\n",
      "5    45\n",
      "Name: Ages, dtype: int64\n"
     ]
    }
   ],
   "source": [
    "\n",
    "manual_bool_values=[True,True,False,False,True,True,False,False]\n",
    "print(ages[manual_bool_values])"
   ]
  },
  {
   "cell_type": "markdown",
   "metadata": {},
   "source": [
    "<b> Method works on Series are vectorized to make code easier to read</b>"
   ]
  },
  {
   "cell_type": "code",
   "execution_count": 118,
   "metadata": {},
   "outputs": [
    {
     "name": "stdout",
     "output_type": "stream",
     "text": [
      "0     74\n",
      "1    122\n",
      "2    180\n",
      "3    132\n",
      "4    112\n",
      "5     90\n",
      "6     82\n",
      "7    154\n",
      "Name: Ages, dtype: int64\n"
     ]
    }
   ],
   "source": [
    "print(ages+ages)"
   ]
  },
  {
   "cell_type": "code",
   "execution_count": 119,
   "metadata": {},
   "outputs": [
    {
     "name": "stdout",
     "output_type": "stream",
     "text": [
      "0    137\n",
      "1    161\n",
      "2    190\n",
      "3    166\n",
      "4    156\n",
      "5    145\n",
      "6    141\n",
      "7    177\n",
      "Name: Ages, dtype: int64\n"
     ]
    }
   ],
   "source": [
    "print(ages+100)"
   ]
  },
  {
   "cell_type": "code",
   "execution_count": 120,
   "metadata": {},
   "outputs": [
    {
     "name": "stdout",
     "output_type": "stream",
     "text": [
      "7    77\n",
      "6    41\n",
      "5    45\n",
      "4    56\n",
      "3    66\n",
      "2    90\n",
      "1    61\n",
      "0    37\n",
      "Name: Ages, dtype: int64\n"
     ]
    }
   ],
   "source": [
    "rev_ages=ages.sort_index(ascending=False)\n",
    "print(rev_ages)"
   ]
  },
  {
   "cell_type": "code",
   "execution_count": 127,
   "metadata": {},
   "outputs": [
    {
     "name": "stdout",
     "output_type": "stream",
     "text": [
      "0     74\n",
      "1    122\n",
      "2    180\n",
      "3    132\n",
      "4    112\n",
      "5     90\n",
      "6     82\n",
      "7    154\n",
      "Name: Ages, dtype: int64 \n",
      "\n",
      "0     38.0\n",
      "1    161.0\n",
      "2      NaN\n",
      "3      NaN\n",
      "4      NaN\n",
      "5      NaN\n",
      "6      NaN\n",
      "7      NaN\n",
      "dtype: float64 \n",
      "\n"
     ]
    }
   ],
   "source": [
    "import numpy as np\n",
    "print(ages+rev_ages,'\\n')\n",
    "print(ages + pd.Series([1,100]),'\\n')\n",
    "#print(ages+np.array([1,100])) #cant with other type"
   ]
  },
  {
   "cell_type": "markdown",
   "metadata": {},
   "source": [
    "<b>Boolean subsetting DataFrame<b/>\n",
    "    "
   ]
  },
  {
   "cell_type": "code",
   "execution_count": 98,
   "metadata": {},
   "outputs": [
    {
     "name": "stdout",
     "output_type": "stream",
     "text": [
      "          country  lifeExp\n",
      "14        Albania   64.820\n",
      "15        Albania   66.220\n",
      "16        Albania   67.690\n",
      "17        Albania   68.930\n",
      "18        Albania   70.420\n",
      "...           ...      ...\n",
      "1678  Yemen, Rep.   60.308\n",
      "1679  Yemen, Rep.   62.698\n",
      "1698     Zimbabwe   60.363\n",
      "1699     Zimbabwe   62.351\n",
      "1700     Zimbabwe   60.377\n",
      "\n",
      "[895 rows x 2 columns]\n"
     ]
    }
   ],
   "source": [
    "#print(df[df['lifeExp']>df['lifeExp'].mean()])\n",
    "print(df[df['lifeExp']>df['lifeExp'].mean()][['country','lifeExp']])\n",
    "\n"
   ]
  },
  {
   "cell_type": "code",
   "execution_count": 89,
   "metadata": {},
   "outputs": [
    {
     "data": {
      "text/html": [
       "<div>\n",
       "<style scoped>\n",
       "    .dataframe tbody tr th:only-of-type {\n",
       "        vertical-align: middle;\n",
       "    }\n",
       "\n",
       "    .dataframe tbody tr th {\n",
       "        vertical-align: top;\n",
       "    }\n",
       "\n",
       "    .dataframe thead th {\n",
       "        text-align: right;\n",
       "    }\n",
       "</style>\n",
       "<table border=\"1\" class=\"dataframe\">\n",
       "  <thead>\n",
       "    <tr style=\"text-align: right;\">\n",
       "      <th></th>\n",
       "      <th>country</th>\n",
       "      <th>continent</th>\n",
       "      <th>year</th>\n",
       "      <th>lifeExp</th>\n",
       "      <th>pop</th>\n",
       "      <th>gdpPercap</th>\n",
       "    </tr>\n",
       "  </thead>\n",
       "  <tbody>\n",
       "    <tr>\n",
       "      <th>0</th>\n",
       "      <td>Afghanistan</td>\n",
       "      <td>Asia</td>\n",
       "      <td>1952</td>\n",
       "      <td>28.801</td>\n",
       "      <td>8425333</td>\n",
       "      <td>779.445314</td>\n",
       "    </tr>\n",
       "    <tr>\n",
       "      <th>1</th>\n",
       "      <td>Afghanistan</td>\n",
       "      <td>Asia</td>\n",
       "      <td>1957</td>\n",
       "      <td>30.332</td>\n",
       "      <td>9240934</td>\n",
       "      <td>820.853030</td>\n",
       "    </tr>\n",
       "  </tbody>\n",
       "</table>\n",
       "</div>"
      ],
      "text/plain": [
       "       country continent  year  lifeExp      pop   gdpPercap\n",
       "0  Afghanistan      Asia  1952   28.801  8425333  779.445314\n",
       "1  Afghanistan      Asia  1957   30.332  9240934  820.853030"
      ]
     },
     "execution_count": 89,
     "metadata": {},
     "output_type": "execute_result"
    }
   ],
   "source": [
    "df.iloc[[0,1]]"
   ]
  },
  {
   "cell_type": "code",
   "execution_count": 93,
   "metadata": {},
   "outputs": [
    {
     "name": "stdout",
     "output_type": "stream",
     "text": [
      "       country continent  year  lifeExp       pop   gdpPercap\n",
      "1  Afghanistan      Asia  1957   30.332   9240934  820.853030\n",
      "3  Afghanistan      Asia  1967   34.020  11537966  836.197138\n"
     ]
    }
   ],
   "source": [
    "print(df[1:4:2]) #[Start:Stop:Step]"
   ]
  },
  {
   "cell_type": "code",
   "execution_count": 95,
   "metadata": {},
   "outputs": [
    {
     "name": "stdout",
     "output_type": "stream",
     "text": [
      "          country  lifeExp\n",
      "0     Afghanistan   28.801\n",
      "1     Afghanistan   30.332\n",
      "2     Afghanistan   31.997\n",
      "3     Afghanistan   34.020\n",
      "4     Afghanistan   36.088\n",
      "...           ...      ...\n",
      "1699     Zimbabwe   62.351\n",
      "1700     Zimbabwe   60.377\n",
      "1701     Zimbabwe   46.809\n",
      "1702     Zimbabwe   39.989\n",
      "1703     Zimbabwe   43.487\n",
      "\n",
      "[1704 rows x 2 columns]\n"
     ]
    }
   ],
   "source": [
    "print(df[['country','lifeExp']])"
   ]
  },
  {
   "cell_type": "markdown",
   "metadata": {},
   "source": [
    "<b>print(df[[True,True,False]]) ValueError: Item wrong length 3 instead of 1704.</b>\n"
   ]
  },
  {
   "cell_type": "markdown",
   "metadata": {},
   "source": [
    "# Making changes to Series and Dataframe"
   ]
  },
  {
   "cell_type": "markdown",
   "metadata": {},
   "source": [
    "<b>Add additional coloumns"
   ]
  },
  {
   "cell_type": "code",
   "execution_count": 143,
   "metadata": {},
   "outputs": [
    {
     "name": "stdout",
     "output_type": "stream",
     "text": [
      "  Ages        Born\n",
      "1   37  2000-03-06\n",
      "2   45  1998-12-23\n",
      "3   40  2001-03-08\n",
      "object\n",
      "  Ages        Born\n",
      "2   45  1998-12-23\n"
     ]
    }
   ],
   "source": [
    "Test=pd.DataFrame({'Ages':['37','45','40'],'Born':['2000-03-06','1998-12-23','2001-03-08']},index=[1,2,3])\n",
    "print(Test)\n",
    "print(Test['Ages'].dtype)\n",
    "print(Test[1:2])"
   ]
  },
  {
   "cell_type": "code",
   "execution_count": 146,
   "metadata": {},
   "outputs": [],
   "source": [
    "ages_trans=Test.Ages.astype(int)"
   ]
  },
  {
   "cell_type": "code",
   "execution_count": 147,
   "metadata": {},
   "outputs": [
    {
     "name": "stdout",
     "output_type": "stream",
     "text": [
      "1    37\n",
      "2    45\n",
      "3    40\n",
      "Name: Ages, dtype: int64\n"
     ]
    }
   ],
   "source": [
    "print(ages_trans)"
   ]
  },
  {
   "cell_type": "code",
   "execution_count": 148,
   "metadata": {},
   "outputs": [],
   "source": [
    "Test['Ages_trans']=ages_trans"
   ]
  },
  {
   "cell_type": "code",
   "execution_count": 149,
   "metadata": {},
   "outputs": [
    {
     "name": "stdout",
     "output_type": "stream",
     "text": [
      "  Ages        Born  Ages_trans\n",
      "1   37  2000-03-06          37\n",
      "2   45  1998-12-23          45\n",
      "3   40  2001-03-08          40\n"
     ]
    }
   ],
   "source": [
    "print(Test)"
   ]
  },
  {
   "cell_type": "markdown",
   "metadata": {},
   "source": [
    "# Exporting and importing data"
   ]
  },
  {
   "cell_type": "markdown",
   "metadata": {},
   "source": [
    "<p> Pickle saved as binary type optimizesd storage disk and use if e object you are saving is an intermediate step in a set of calculations that\n",
    "you want to save, or if you know your data will stay in the Python world </p>"
   ]
  },
  {
   "cell_type": "code",
   "execution_count": 6,
   "metadata": {},
   "outputs": [],
   "source": [
    "import pandas as pd\n",
    "df = pd.read_csv('/Users/user/Desktop/inst/extdata/gapminder.tsv',sep='\\t')\n",
    "#them index_col=1 chon o vi tri thu 1 lam index\n",
    "\n",
    "df.to_pickle('/Users/user/Desktop/Ecommerce/Out_Pandas/df.pickle')\n",
    "#use pd.read_pickle to read"
   ]
  },
  {
   "cell_type": "code",
   "execution_count": 7,
   "metadata": {},
   "outputs": [],
   "source": [
    "# to_csv(file.csv)\n",
    "# to_csv(file.tsv)"
   ]
  },
  {
   "cell_type": "markdown",
   "metadata": {},
   "source": [
    "<b> Series not have to_excel but we can save by convert to DataFrame and use .to_frame()</b>"
   ]
  },
  {
   "cell_type": "markdown",
   "metadata": {},
   "source": [
    "# Matplotlib and seaborn"
   ]
  },
  {
   "cell_type": "code",
   "execution_count": 12,
   "metadata": {},
   "outputs": [],
   "source": [
    "from matplotlib import pyplot as plt"
   ]
  },
  {
   "cell_type": "markdown",
   "metadata": {},
   "source": [
    "# Bar Plots"
   ]
  },
  {
   "cell_type": "code",
   "execution_count": 13,
   "metadata": {},
   "outputs": [],
   "source": [
    "import seaborn as sns"
   ]
  },
  {
   "cell_type": "code",
   "execution_count": 14,
   "metadata": {},
   "outputs": [],
   "source": [
    "anscombe=sns.load_dataset(\"anscombe\")"
   ]
  },
  {
   "cell_type": "code",
   "execution_count": 15,
   "metadata": {
    "collapsed": true
   },
   "outputs": [
    {
     "name": "stdout",
     "output_type": "stream",
     "text": [
      "   dataset     x      y\n",
      "0        I  10.0   8.04\n",
      "1        I   8.0   6.95\n",
      "2        I  13.0   7.58\n",
      "3        I   9.0   8.81\n",
      "4        I  11.0   8.33\n",
      "5        I  14.0   9.96\n",
      "6        I   6.0   7.24\n",
      "7        I   4.0   4.26\n",
      "8        I  12.0  10.84\n",
      "9        I   7.0   4.82\n",
      "10       I   5.0   5.68\n",
      "11      II  10.0   9.14\n",
      "12      II   8.0   8.14\n",
      "13      II  13.0   8.74\n",
      "14      II   9.0   8.77\n",
      "15      II  11.0   9.26\n",
      "16      II  14.0   8.10\n",
      "17      II   6.0   6.13\n",
      "18      II   4.0   3.10\n",
      "19      II  12.0   9.13\n",
      "20      II   7.0   7.26\n",
      "21      II   5.0   4.74\n",
      "22     III  10.0   7.46\n",
      "23     III   8.0   6.77\n",
      "24     III  13.0  12.74\n",
      "25     III   9.0   7.11\n",
      "26     III  11.0   7.81\n",
      "27     III  14.0   8.84\n",
      "28     III   6.0   6.08\n",
      "29     III   4.0   5.39\n",
      "30     III  12.0   8.15\n",
      "31     III   7.0   6.42\n",
      "32     III   5.0   5.73\n",
      "33      IV   8.0   6.58\n",
      "34      IV   8.0   5.76\n",
      "35      IV   8.0   7.71\n",
      "36      IV   8.0   8.84\n",
      "37      IV   8.0   8.47\n",
      "38      IV   8.0   7.04\n",
      "39      IV   8.0   5.25\n",
      "40      IV  19.0  12.50\n",
      "41      IV   8.0   5.56\n",
      "42      IV   8.0   7.91\n",
      "43      IV   8.0   6.89\n"
     ]
    }
   ],
   "source": [
    "print(anscombe)"
   ]
  },
  {
   "cell_type": "markdown",
   "metadata": {},
   "source": [
    "<b> matplotlib </b>"
   ]
  },
  {
   "cell_type": "code",
   "execution_count": 156,
   "metadata": {},
   "outputs": [],
   "source": [
    "dataset_1 = anscombe[anscombe['dataset'] == 'I']\n",
    "dataset_2 = anscombe[anscombe['dataset'] == 'II']\n",
    "dataset_3 = anscombe[anscombe['dataset'] == 'III']\n",
    "dataset_4 = anscombe[anscombe['dataset'] == 'IV']"
   ]
  },
  {
   "cell_type": "code",
   "execution_count": 157,
   "metadata": {},
   "outputs": [],
   "source": [
    "#dataset_1"
   ]
  },
  {
   "cell_type": "code",
   "execution_count": 158,
   "metadata": {},
   "outputs": [
    {
     "data": {
      "text/plain": [
       "[<matplotlib.lines.Line2D at 0x1a208a1c90>]"
      ]
     },
     "execution_count": 158,
     "metadata": {},
     "output_type": "execute_result"
    },
    {
     "data": {
      "image/png": "[encoded data removed]",
      "text/plain": [
       "<Figure size 432x288 with 1 Axes>"
      ]
     },
     "metadata": {
      "needs_background": "light"
     },
     "output_type": "display_data"
    }
   ],
   "source": [
    "plt.plot(dataset_1['x'], dataset_1['y'])"
   ]
  },
  {
   "cell_type": "markdown",
   "metadata": {},
   "source": [
    "<b>pass 'o' parameter to use points</b>"
   ]
  },
  {
   "cell_type": "code",
   "execution_count": 159,
   "metadata": {},
   "outputs": [
    {
     "data": {
      "text/plain": [
       "[<matplotlib.lines.Line2D at 0x1a22892790>]"
      ]
     },
     "execution_count": 159,
     "metadata": {},
     "output_type": "execute_result"
    },
    {
     "data": {
      "image/png": "[encoded data removed]",
      "text/plain": [
       "<Figure size 432x288 with 1 Axes>"
      ]
     },
     "metadata": {
      "needs_background": "light"
     },
     "output_type": "display_data"
    }
   ],
   "source": [
    "plt.plot(dataset_1['x'], dataset_1['y'],'o')"
   ]
  },
  {
   "cell_type": "markdown",
   "metadata": {},
   "source": [
    "<b>use subplot to present many results in a single figure </b><br/>\n",
    "<b> subplot syntax takes 3 parameters\n",
    "1. number of rows in figure for subplots\n",
    "2. number of columns in figure for subplots\n",
    "3. subplot location<b/>"
   ]
  },
  {
   "cell_type": "code",
   "execution_count": 160,
   "metadata": {},
   "outputs": [
    {
     "data": {
      "text/plain": [
       "<Figure size 432x288 with 0 Axes>"
      ]
     },
     "execution_count": 160,
     "metadata": {},
     "output_type": "execute_result"
    },
    {
     "data": {
      "text/plain": [
       "<Figure size 432x288 with 0 Axes>"
      ]
     },
     "metadata": {},
     "output_type": "display_data"
    }
   ],
   "source": [
    "plt.figure(figsize=(6,4))"
   ]
  },
  {
   "cell_type": "code",
   "execution_count": 161,
   "metadata": {},
   "outputs": [
    {
     "data": {
      "text/plain": [
       "[<matplotlib.lines.Line2D at 0x1a21c11d50>]"
      ]
     },
     "execution_count": 161,
     "metadata": {},
     "output_type": "execute_result"
    },
    {
     "data": {
      "image/png": "[encoded data removed]",
      "text/plain": [
       "<Figure size 432x288 with 1 Axes>"
      ]
     },
     "metadata": {
      "needs_background": "light"
     },
     "output_type": "display_data"
    }
   ],
   "source": [
    "plt.plot(dataset_2['x'], dataset_2['y'], 'o')"
   ]
  },
  {
   "cell_type": "code",
   "execution_count": 182,
   "metadata": {
    "scrolled": true
   },
   "outputs": [
    {
     "data": {
      "image/png": "[encoded data removed]",
      "text/plain": [
       "<Figure size 432x288 with 3 Axes>"
      ]
     },
     "metadata": {
      "needs_background": "light"
     },
     "output_type": "display_data"
    }
   ],
   "source": [
    "plt.title('image1')\n",
    "plt.subplot(2, 2, 1)\n",
    "plt.plot(dataset_1['x'], dataset_1['y'],'o')\n",
    "plt.subplot(2,2,2)\n",
    "plt.plot(dataset_2['x'], dataset_2['y'],'o')\n",
    "plt.subplot(2,2,3)\n",
    "plt.plot(dataset_3['x'], dataset_3['y'])\n",
    "plt.suptitle(\"Anscombe Data\")\n",
    "plt.show()\n"
   ]
  },
  {
   "cell_type": "code",
   "execution_count": 168,
   "metadata": {},
   "outputs": [],
   "source": [
    "# subplot has 2 rows and 2 columns, plot location 1\n",
    "# axes1 = fig.add_subplot(2 , 2, 1)\n",
    "# axes1.plot(dataset_1['x'], dataset_1['y'], 'o')\n",
    "# # subplot has 2 rows and 2 columns, plot location 2\n",
    "# axes2 = fig.add_subplot(2 , 2, 2)\n",
    "# axes2.plot(dataset_2['x'], dataset_2['y'], 'o')\n",
    "# # subplot has 2 rows and 2 columns, plot location 3\n",
    "# axes3 = fig.add_subplot(2 , 2, 3)\n",
    "# axes3.plot(dataset_3['x'], dataset_3['y'], 'o')\n",
    "# # subplot has 2 rows and 2 columns,plot location 4\n",
    "# axes4 = fig.add_subplot(2 , 2, 4)\n",
    "# axes4.plot(dataset_4['x'], dataset_4['y'], 'o')\n",
    "# plt.show()\n",
    "# axes1.set_title(\"dataset_1\")\n",
    "# axes2.set_title(\"dataset_2\")\n",
    "# axes3.set_title(\"dataset_3\")\n",
    "# axes4.set_title(\"dataset_4\")\n"
   ]
  },
  {
   "cell_type": "markdown",
   "metadata": {},
   "source": [
    "# Statiscal Graphics"
   ]
  },
  {
   "cell_type": "code",
   "execution_count": 179,
   "metadata": {},
   "outputs": [
    {
     "name": "stdout",
     "output_type": "stream",
     "text": [
      "   total_bill   tip     sex smoker  day    time  size\n",
      "0       16.99  1.01  Female     No  Sun  Dinner     2\n",
      "1       10.34  1.66    Male     No  Sun  Dinner     3\n",
      "2       21.01  3.50    Male     No  Sun  Dinner     3\n",
      "3       23.68  3.31    Male     No  Sun  Dinner     2\n",
      "4       24.59  3.61  Female     No  Sun  Dinner     4\n",
      "     total_bill   tip     sex smoker   day    time  size\n",
      "6          8.77  2.00    Male     No   Sun  Dinner     2\n",
      "30         9.55  1.45    Male     No   Sat  Dinner     2\n",
      "43         9.68  1.32    Male     No   Sun  Dinner     2\n",
      "53         9.94  1.56    Male     No   Sun  Dinner     2\n",
      "67         3.07  1.00  Female    Yes   Sat  Dinner     1\n",
      "92         5.75  1.00  Female    Yes   Fri  Dinner     2\n",
      "111        7.25  1.00  Female     No   Sat  Dinner     1\n",
      "126        8.52  1.48    Male     No  Thur   Lunch     2\n",
      "135        8.51  1.25  Female     No  Thur   Lunch     2\n",
      "145        8.35  1.50  Female     No  Thur   Lunch     2\n",
      "148        9.78  1.73    Male     No  Thur   Lunch     2\n",
      "149        7.51  2.00    Male     No  Thur   Lunch     2\n",
      "172        7.25  5.15    Male    Yes   Sun  Dinner     2\n",
      "178        9.60  4.00  Female    Yes   Sun  Dinner     2\n",
      "195        7.56  1.44    Male     No  Thur   Lunch     2\n",
      "218        7.74  1.44    Male    Yes   Sat  Dinner     2\n",
      "222        8.58  1.92    Male    Yes   Fri   Lunch     1\n"
     ]
    }
   ],
   "source": [
    "tips = sns.load_dataset(\"tips\")\n",
    "print(tips.head())\n",
    "print(tips[tips['total_bill']<10])"
   ]
  },
  {
   "cell_type": "code",
   "execution_count": 174,
   "metadata": {},
   "outputs": [
    {
     "data": {
      "image/png": "[encoded data removed]",
      "text/plain": [
       "<Figure size 432x288 with 1 Axes>"
      ]
     },
     "metadata": {
      "needs_background": "light"
     },
     "output_type": "display_data"
    }
   ],
   "source": [
    "#univariate\n",
    "plt.hist(tips['total_bill'], bins=10)\n",
    "plt.xlabel('Frequency')\n",
    "plt.ylabel('Total Bill')\n",
    "plt.show()"
   ]
  },
  {
   "cell_type": "code",
   "execution_count": 178,
   "metadata": {},
   "outputs": [
    {
     "data": {
      "image/png": "[encoded data removed]",
      "text/plain": [
       "<Figure size 432x288 with 1 Axes>"
      ]
     },
     "metadata": {
      "needs_background": "light"
     },
     "output_type": "display_data"
    }
   ],
   "source": [
    "#bivariate\n",
    "plt.scatter(tips['total_bill'],tips['tip'])\n",
    "plt.show()\n"
   ]
  },
  {
   "cell_type": "code",
   "execution_count": 181,
   "metadata": {},
   "outputs": [
    {
     "data": {
      "image/png": "[encoded data removed]",
      "text/plain": [
       "<Figure size 432x288 with 1 Axes>"
      ]
     },
     "metadata": {
      "needs_background": "light"
     },
     "output_type": "display_data"
    }
   ],
   "source": [
    "#box plot\n",
    "plt.boxplot(\n",
    "# first argument of boxplot is the data\n",
    "# since we are plotting multiple pieces of data\n",
    "# we have to put each piece of data into a list\n",
    "[tips[tips['sex'] == 'Female']['tip'],\n",
    "tips [tips ['sex'] == 'Male']['tip']])\n",
    "plt.show()\n",
    "# We can then pass in an optional labels parameter\n",
    "# to label the data we passed labels=['Female', 'Male'])"
   ]
  },
  {
   "cell_type": "code",
   "execution_count": 186,
   "metadata": {},
   "outputs": [],
   "source": [
    "# create a color variable based on the sex\n",
    "def recode_sex(sex):\n",
    "    if sex == 'Female':\n",
    "        return 0\n",
    "    else:\n",
    "        return 1\n",
    "tips['sex_color'] = tips['sex'].apply(recode_sex)\n"
   ]
  },
  {
   "cell_type": "code",
   "execution_count": 189,
   "metadata": {},
   "outputs": [
    {
     "data": {
      "image/png": "[encoded data removed]",
      "text/plain": [
       "<Figure size 432x288 with 1 Axes>"
      ]
     },
     "metadata": {
      "needs_background": "light"
     },
     "output_type": "display_data"
    }
   ],
   "source": [
    "plt.scatter(x=tips['total_bill'],\n",
    "y=tips['tip'],\n",
    "# set the size of the dots based on party size\n",
    "# we multiply the values by 10 to make the points bigger\n",
    "# and also to emphasize the difference\n",
    "s=tips['size'] * 10,\n",
    "# set the color for the sex\n",
    "c=tips['sex_color'],\n",
    "# set the alpha so points are more transparent\n",
    "# this helps with overlapping points\n",
    "alpha=0.5)\n",
    "plt.xlabel('Total Bill')\n",
    "plt.ylabel('Tip')\n",
    "plt.show()"
   ]
  },
  {
   "cell_type": "markdown",
   "metadata": {},
   "source": [
    "<b> Seaborn </b>\n"
   ]
  },
  {
   "cell_type": "code",
   "execution_count": 191,
   "metadata": {},
   "outputs": [
    {
     "data": {
      "image/png": "[encoded data removed]",
      "text/plain": [
       "<Figure size 432x288 with 1 Axes>"
      ]
     },
     "metadata": {
      "needs_background": "light"
     },
     "output_type": "display_data"
    }
   ],
   "source": [
    "#univariate\n",
    "#Histograms\n",
    "hist=sns.distplot(tips['total_bill'])"
   ]
  },
  {
   "cell_type": "code",
   "execution_count": 193,
   "metadata": {},
   "outputs": [
    {
     "data": {
      "image/png": "[encoded data removed]",
      "text/plain": [
       "<Figure size 432x288 with 1 Axes>"
      ]
     },
     "metadata": {
      "needs_background": "light"
     },
     "output_type": "display_data"
    }
   ],
   "source": [
    "#Density Plot\n",
    "den = sns.distplot(tips['total_bill'],hist=False)"
   ]
  },
  {
   "cell_type": "code",
   "execution_count": 194,
   "metadata": {},
   "outputs": [
    {
     "data": {
      "image/png": "[encoded data removed]",
      "text/plain": [
       "<Figure size 432x288 with 1 Axes>"
      ]
     },
     "metadata": {
      "needs_background": "light"
     },
     "output_type": "display_data"
    }
   ],
   "source": [
    "#Count plot (used to count discrete variables)\n",
    "count = sns.countplot('day', data=tips)"
   ]
  },
  {
   "cell_type": "code",
   "execution_count": 195,
   "metadata": {},
   "outputs": [
    {
     "data": {
      "image/png": "[encoded data removed]",
      "text/plain": [
       "<Figure size 432x288 with 1 Axes>"
      ]
     },
     "metadata": {
      "needs_background": "light"
     },
     "output_type": "display_data"
    }
   ],
   "source": [
    "#bivariate\n",
    "scatter = sns.regplot(x='total_bill',y='tip',data=tips)"
   ]
  },
  {
   "cell_type": "code",
   "execution_count": 196,
   "metadata": {},
   "outputs": [
    {
     "data": {
      "image/png": "[encoded data removed]",
      "text/plain": [
       "<Figure size 432x432 with 3 Axes>"
      ]
     },
     "metadata": {
      "needs_background": "light"
     },
     "output_type": "display_data"
    }
   ],
   "source": [
    "#join univariate plot\n",
    "scatter = sns.jointplot(x='total_bill', y='tip', data=tips)"
   ]
  },
  {
   "cell_type": "code",
   "execution_count": 198,
   "metadata": {},
   "outputs": [
    {
     "data": {
      "image/png": "[encoded data removed]",
      "text/plain": [
       "<Figure size 432x288 with 1 Axes>"
      ]
     },
     "metadata": {
      "needs_background": "light"
     },
     "output_type": "display_data"
    }
   ],
   "source": [
    "#2d Density plot\n",
    "kde = sns.kdeplot(data = tips['total_bill'],\n",
    "data2=tips['tip'],\n",
    "shade=True) "
   ]
  },
  {
   "cell_type": "code",
   "execution_count": null,
   "metadata": {},
   "outputs": [],
   "source": []
  }
 ],
 "metadata": {
  "kernelspec": {
   "display_name": "Python 3",
   "language": "python",
   "name": "python3"
  },
  "language_info": {
   "codemirror_mode": {
    "name": "ipython",
    "version": 3
   },
   "file_extension": ".py",
   "mimetype": "text/x-python",
   "name": "python",
   "nbconvert_exporter": "python",
   "pygments_lexer": "ipython3",
   "version": "3.7.6"
  }
 },
 "nbformat": 4,
 "nbformat_minor": 4
}
